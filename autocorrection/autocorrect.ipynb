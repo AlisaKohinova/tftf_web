{
 "cells": [
  {
   "cell_type": "code",
   "execution_count": 9,
   "id": "3c546613",
   "metadata": {},
   "outputs": [],
   "source": [
    "from spellchecker import SpellChecker\n",
    "\n",
    "check = SpellChecker()\n",
    "check.distance = 5"
   ]
  },
  {
   "cell_type": "code",
   "execution_count": 11,
   "id": "ee097777",
   "metadata": {},
   "outputs": [],
   "source": [
    "#from django.http import JsonResponse"
   ]
  },
  {
   "cell_type": "code",
   "execution_count": 12,
   "id": "dbae298d",
   "metadata": {},
   "outputs": [],
   "source": [
    "from Levenshtein import distance as levenshtein_distance"
   ]
  },
  {
   "cell_type": "code",
   "execution_count": 17,
   "id": "7ca4acf3",
   "metadata": {},
   "outputs": [],
   "source": [
    "def autocorrect(string):\n",
    "    words = check.split_words(string)\n",
    "    misspelled = check.unknown(words)\n",
    "    answers = []\n",
    "    for word in words:\n",
    "        org_word = word\n",
    "        needs_correction = False\n",
    "        candidats = []\n",
    "        distances = []\n",
    "        if word in misspelled:\n",
    "            needs_correction = True;\n",
    "            candidats = list(check.candidates(word));\n",
    "            for c in candidats:\n",
    "                distances.append(levenshtein_distance(word, c))\n",
    "        # I am not quite sure how the different parts of a word like long sword and multiple corrected candidats are best given as an answer \n",
    "        # to be able to use thse in the next step, so we might want to change this data structure \n",
    "        answers.append(\n",
    "            #JsonResponse(\n",
    "                {\n",
    "                 \"orgWord\": org_word,\n",
    "                 \"wasIncorrect\": needs_correction,\n",
    "                 \"candidatCorrections\": candidats,\n",
    "                 \"distances\": distances\n",
    "                }\n",
    "            #)\n",
    "        )\n",
    "    return answers"
   ]
  },
  {
   "cell_type": "code",
   "execution_count": 18,
   "id": "f44ea772",
   "metadata": {
    "scrolled": true
   },
   "outputs": [
    {
     "name": "stdout",
     "output_type": "stream",
     "text": [
      "[{'orgWord': 'rapeire', 'wasIncorrect': True, 'candidatCorrections': ['rapier', 'raper', 'rapers', 'sapere', 'rapiers', 'rapture', 'aperire'], 'distances': [3, 2, 2, 2, 3, 2, 2]}, {'orgWord': 'long', 'wasIncorrect': False, 'candidatCorrections': [], 'distances': []}, {'orgWord': 'swrd', 'wasIncorrect': True, 'candidatCorrections': ['sward', 'sword'], 'distances': [1, 1]}, {'orgWord': 'canonn', 'wasIncorrect': True, 'candidatCorrections': ['canons', 'canon', 'cannon'], 'distances': [1, 1, 2]}]\n"
     ]
    }
   ],
   "source": [
    "#this is just a test\n",
    "print(autocorrect(\"rapeire long swrd canonn\"))"
   ]
  },
  {
   "cell_type": "code",
   "execution_count": null,
   "id": "b040e8b8",
   "metadata": {},
   "outputs": [],
   "source": []
  }
 ],
 "metadata": {
  "kernelspec": {
   "display_name": "Python 3 (ipykernel)",
   "language": "python",
   "name": "python3"
  },
  "language_info": {
   "codemirror_mode": {
    "name": "ipython",
    "version": 3
   },
   "file_extension": ".py",
   "mimetype": "text/x-python",
   "name": "python",
   "nbconvert_exporter": "python",
   "pygments_lexer": "ipython3",
   "version": "3.9.7"
  }
 },
 "nbformat": 4,
 "nbformat_minor": 5
}
