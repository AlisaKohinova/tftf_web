{
 "cells": [
  {
   "cell_type": "code",
   "execution_count": 6,
   "id": "3c546613",
   "metadata": {},
   "outputs": [
    {
     "ename": "ModuleNotFoundError",
     "evalue": "No module named 'indexer'",
     "output_type": "error",
     "traceback": [
      "\u001B[0;31m---------------------------------------------------------------------------\u001B[0m",
      "\u001B[0;31mModuleNotFoundError\u001B[0m                       Traceback (most recent call last)",
      "Input \u001B[0;32mIn [6]\u001B[0m, in \u001B[0;36m<cell line: 1>\u001B[0;34m()\u001B[0m\n\u001B[0;32m----> 1\u001B[0m \u001B[38;5;28;01mfrom\u001B[39;00m \u001B[38;5;21;01mspellchecker\u001B[39;00m \u001B[38;5;28;01mimport\u001B[39;00m SpellChecker\n\u001B[1;32m      3\u001B[0m check \u001B[38;5;241m=\u001B[39m SpellChecker()\n\u001B[1;32m      4\u001B[0m check\u001B[38;5;241m.\u001B[39mdistance \u001B[38;5;241m=\u001B[39m \u001B[38;5;241m5\u001B[39m\n",
      "File \u001B[0;32m/opt/homebrew/lib/python3.9/site-packages/spellchecker/__init__.py:2\u001B[0m, in \u001B[0;36m<module>\u001B[0;34m\u001B[0m\n\u001B[1;32m      1\u001B[0m \u001B[38;5;66;03m# -*- coding: utf-8 -*-\u001B[39;00m\n\u001B[0;32m----> 2\u001B[0m \u001B[38;5;28;01mfrom\u001B[39;00m  \u001B[38;5;21;01mspellchecker\u001B[39;00m\u001B[38;5;21;01m.\u001B[39;00m\u001B[38;5;21;01mcore\u001B[39;00m \u001B[38;5;28;01mimport\u001B[39;00m Spellchecker,getInstance\n",
      "File \u001B[0;32m/opt/homebrew/lib/python3.9/site-packages/spellchecker/core.py:26\u001B[0m, in \u001B[0;36m<module>\u001B[0;34m\u001B[0m\n\u001B[1;32m     23\u001B[0m \u001B[38;5;28;01mimport\u001B[39;00m \u001B[38;5;21;01minexactsearch\u001B[39;00m\n\u001B[1;32m     24\u001B[0m \u001B[38;5;28;01mimport\u001B[39;00m \u001B[38;5;21;01murllib\u001B[39;00m\n\u001B[0;32m---> 26\u001B[0m \u001B[38;5;28;01mfrom\u001B[39;00m \u001B[38;5;21;01mindexer\u001B[39;00m \u001B[38;5;28;01mimport\u001B[39;00m DictionaryIndex\n\u001B[1;32m     27\u001B[0m \u001B[38;5;28;01mfrom\u001B[39;00m \u001B[38;5;21;01mlangdetect\u001B[39;00m \u001B[38;5;28;01mimport\u001B[39;00m _detect_lang\n\u001B[1;32m     29\u001B[0m __all__ \u001B[38;5;241m=\u001B[39m [\u001B[38;5;124m'\u001B[39m\u001B[38;5;124mSpellchecker\u001B[39m\u001B[38;5;124m'\u001B[39m, \u001B[38;5;124m'\u001B[39m\u001B[38;5;124mgetInstance\u001B[39m\u001B[38;5;124m'\u001B[39m]\n",
      "\u001B[0;31mModuleNotFoundError\u001B[0m: No module named 'indexer'"
     ]
    }
   ],
   "source": [
    "from spellchecker import SpellChecker\n",
    "\n",
    "check = SpellChecker()\n",
    "check.distance = 5"
   ]
  },
  {
   "cell_type": "code",
   "execution_count": 11,
   "id": "ee097777",
   "metadata": {},
   "outputs": [],
   "source": [
    "#from django.http import JsonResponse"
   ]
  },
  {
   "cell_type": "code",
   "execution_count": 5,
   "id": "dbae298d",
   "metadata": {},
   "outputs": [],
   "source": [
    "from Levenshtein import distance as levenshtein_distance"
   ]
  },
  {
   "cell_type": "code",
   "execution_count": 17,
   "id": "7ca4acf3",
   "metadata": {},
   "outputs": [],
   "source": [
    "def autocorrect(string):\n",
    "    words = check.split_words(string)\n",
    "    misspelled = check.unknown(words)\n",
    "    answers = []\n",
    "    for word in words:\n",
    "        org_word = word\n",
    "        needs_correction = False\n",
    "        candidats = []\n",
    "        distances = []\n",
    "        if word in misspelled:\n",
    "            needs_correction = True;\n",
    "            candidats = list(check.candidates(word));\n",
    "            for c in candidats:\n",
    "                distances.append(levenshtein_distance(word, c))\n",
    "        # I am not quite sure how the different parts of a word like long sword and multiple corrected candidats are best given as an answer \n",
    "        # to be able to use thse in the next step, so we might want to change this data structure \n",
    "        answers.append(\n",
    "            #JsonResponse(\n",
    "                {\n",
    "                 \"orgWord\": org_word,\n",
    "                 \"wasIncorrect\": needs_correction,\n",
    "                 \"candidatCorrections\": candidats,\n",
    "                 \"distances\": distances\n",
    "                }\n",
    "            #)\n",
    "        )\n",
    "    return answers"
   ]
  },
  {
   "cell_type": "code",
   "execution_count": 18,
   "id": "f44ea772",
   "metadata": {
    "scrolled": true
   },
   "outputs": [
    {
     "name": "stdout",
     "output_type": "stream",
     "text": [
      "[{'orgWord': 'rapeire', 'wasIncorrect': True, 'candidatCorrections': ['rapier', 'raper', 'rapers', 'sapere', 'rapiers', 'rapture', 'aperire'], 'distances': [3, 2, 2, 2, 3, 2, 2]}, {'orgWord': 'long', 'wasIncorrect': False, 'candidatCorrections': [], 'distances': []}, {'orgWord': 'swrd', 'wasIncorrect': True, 'candidatCorrections': ['sward', 'sword'], 'distances': [1, 1]}, {'orgWord': 'canonn', 'wasIncorrect': True, 'candidatCorrections': ['canons', 'canon', 'cannon'], 'distances': [1, 1, 2]}]\n"
     ]
    }
   ],
   "source": [
    "#this is just a test\n",
    "print(autocorrect(\"rapeire long swrd canonn\"))"
   ]
  },
  {
   "cell_type": "code",
   "execution_count": null,
   "id": "b040e8b8",
   "metadata": {},
   "outputs": [],
   "source": []
  }
 ],
 "metadata": {
  "kernelspec": {
   "display_name": "Python 3 (ipykernel)",
   "language": "python",
   "name": "python3"
  },
  "language_info": {
   "codemirror_mode": {
    "name": "ipython",
    "version": 3
   },
   "file_extension": ".py",
   "mimetype": "text/x-python",
   "name": "python",
   "nbconvert_exporter": "python",
   "pygments_lexer": "ipython3",
   "version": "3.9.12"
  }
 },
 "nbformat": 4,
 "nbformat_minor": 5
}